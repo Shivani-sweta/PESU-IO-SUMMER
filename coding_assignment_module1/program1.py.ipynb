{
 "cells": [
  {
   "cell_type": "code",
   "execution_count": 1,
   "metadata": {},
   "outputs": [
    {
     "name": "stdout",
     "output_type": "stream",
     "text": [
      "input comma seperated numbers1,2,3,4,5\n",
      "list: ['1', '2', '3', '4', '5']\n",
      "tuple: ('1', '2', '3', '4', '5')\n"
     ]
    }
   ],
   "source": [
    "numbers=input(\"input comma seperated numbers\")\n",
    "list=numbers.split(\",\")\n",
    "tuple=tuple(list)\n",
    "print('list:',list)\n",
    "print('tuple:',tuple)"
   ]
  },
  {
   "cell_type": "code",
   "execution_count": null,
   "metadata": {},
   "outputs": [],
   "source": []
  }
 ],
 "metadata": {
  "kernelspec": {
   "display_name": "Python 3",
   "language": "python",
   "name": "python3"
  },
  "language_info": {
   "codemirror_mode": {
    "name": "ipython",
    "version": 3
   },
   "file_extension": ".py",
   "mimetype": "text/x-python",
   "name": "python",
   "nbconvert_exporter": "python",
   "pygments_lexer": "ipython3",
   "version": "3.7.1"
  }
 },
 "nbformat": 4,
 "nbformat_minor": 2
}
